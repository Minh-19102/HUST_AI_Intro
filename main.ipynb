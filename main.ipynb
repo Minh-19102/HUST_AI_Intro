{
 "cells": [
  {
   "cell_type": "code",
   "execution_count": 12,
   "metadata": {},
   "outputs": [
    {
     "ename": "SyntaxError",
     "evalue": "invalid syntax (3436572066.py, line 1)",
     "output_type": "error",
     "traceback": [
      "\u001b[1;36m  Cell \u001b[1;32mIn[12], line 1\u001b[1;36m\u001b[0m\n\u001b[1;33m    python3.11 -m pip install numpy\u001b[0m\n\u001b[1;37m           ^\u001b[0m\n\u001b[1;31mSyntaxError\u001b[0m\u001b[1;31m:\u001b[0m invalid syntax\n"
     ]
    }
   ],
   "source": [
    "python3.10 -m pip install numpy\n",
    "python3.10 -m pip install matplotlib \n",
    "python3.10 -m pip install opencv-python"
   ]
  },
  {
   "cell_type": "code",
   "execution_count": 2,
   "metadata": {},
   "outputs": [
    {
     "ename": "ModuleNotFoundError",
     "evalue": "No module named 'numpy'",
     "output_type": "error",
     "traceback": [
      "\u001b[1;31m---------------------------------------------------------------------------\u001b[0m",
      "\u001b[1;31mModuleNotFoundError\u001b[0m                       Traceback (most recent call last)",
      "Cell \u001b[1;32mIn[2], line 2\u001b[0m\n\u001b[0;32m      1\u001b[0m \u001b[39mimport\u001b[39;00m \u001b[39mjson\u001b[39;00m\n\u001b[1;32m----> 2\u001b[0m \u001b[39mimport\u001b[39;00m \u001b[39mnumpy\u001b[39;00m \u001b[39mas\u001b[39;00m \u001b[39mnp\u001b[39;00m\n\u001b[0;32m      3\u001b[0m \u001b[39mfrom\u001b[39;00m \u001b[39mqueue\u001b[39;00m \u001b[39mimport\u001b[39;00m PriorityQueue\n\u001b[0;32m      4\u001b[0m \u001b[39mimport\u001b[39;00m \u001b[39mcodecs\u001b[39;00m\n",
      "\u001b[1;31mModuleNotFoundError\u001b[0m: No module named 'numpy'"
     ]
    }
   ],
   "source": [
    "import json\n",
    "import numpy as np\n",
    "from queue import PriorityQueue\n",
    "import codecs\n",
    "import cv2\n",
    "import matplotlib.pyplot as plt"
   ]
  },
  {
   "cell_type": "code",
   "execution_count": 3,
   "metadata": {},
   "outputs": [],
   "source": [
    "class Street:\n",
    "  def __init__(self, id, name):\n",
    "    self.id = id\n",
    "    self.name = name\n",
    "    \n",
    "class Point:\n",
    "  def __init__(self, id, x, y, streetList: list):\n",
    "    self.id = id\n",
    "    self.x = x\n",
    "    self.y = y\n",
    "    self.streetList = streetList\n",
    "  \n",
    "  def getId(self) -> int:\n",
    "    return self.id\n",
    "  \n",
    "  def getPosition(self) -> list:\n",
    "    return [self.x, self.y]\n",
    "  \n",
    "  def getStreetList(self) -> list:\n",
    "    return self.streetList\n",
    "\n",
    "road_id = 0\n",
    "class Road:\n",
    "  def __init__(self , point1: Point, point2: Point, oneWayRoad):\n",
    "    global road_id\n",
    "    self.id = road_id\n",
    "    road_id += 1\n",
    "    self.point1 = point1\n",
    "    self.point2 = point2\n",
    "    self.oneWayRoad = oneWayRoad\n",
    "  def getPoint1(self)->Point:\n",
    "    return self.point1\n",
    "  def getPoint2(self)->Point:\n",
    "    return self.point2\n",
    "  def getLength(self):\n",
    "    if self.length != -1:\n",
    "      x1, y1 = self.getPoint1().getPosition()\n",
    "      x2, y2 = self.getPoint2().getPosition()\n",
    "      self.length = ((x1-x2)**2+(y1-y2)**2)**(1/2)\n",
    "    return abs()\n",
    "\n",
    "class Graph:\n",
    "  next_point_dict = {}\n",
    "  def add_road(self, road_to_add: Road):\n",
    "    p1Id = road_to_add.point1.getId()\n",
    "    p2Id = road_to_add.point2.getId()\n",
    "    if p1Id not in self.next_point_dict:\n",
    "      self.next_point_dict[p1Id] = []\n",
    "    if p2Id not in self.next_point_dict:\n",
    "      self.next_point_dict[p2Id] = []\n",
    "    if road_to_add.oneWayRoad!= 1:\n",
    "      self.next_point_dict[p2Id] += [p1Id]\n",
    "    if road_to_add.oneWayRoad!= -1:\n",
    "      self.next_point_dict[p1Id] += [p2Id]\n",
    "  def get_next_point_dict(self):\n",
    "    return self.next_point_dict"
   ]
  },
  {
   "cell_type": "code",
   "execution_count": 4,
   "metadata": {},
   "outputs": [],
   "source": [
    "scale_width_ratio = 0\n",
    "scale_height_ratio = 0\n",
    "x_max = 105.850260\n",
    "y_max = 21.044922\n",
    "x_min = 105.844521\n",
    "y_min = 21.039959\n",
    "streetDict = {}\n",
    "pointDict = {}\n",
    "roadDict = {}\n",
    "graph = Graph()"
   ]
  },
  {
   "cell_type": "code",
   "execution_count": 5,
   "metadata": {},
   "outputs": [
    {
     "ename": "NameError",
     "evalue": "name 'codecs' is not defined",
     "output_type": "error",
     "traceback": [
      "\u001b[1;31m---------------------------------------------------------------------------\u001b[0m",
      "\u001b[1;31mNameError\u001b[0m                                 Traceback (most recent call last)",
      "Cell \u001b[1;32mIn[5], line 17\u001b[0m\n\u001b[0;32m     15\u001b[0m       newRoad \u001b[39m=\u001b[39m Road(pointDict[road[\u001b[39m\"\u001b[39m\u001b[39mpoint1\u001b[39m\u001b[39m\"\u001b[39m]], pointDict[road[\u001b[39m\"\u001b[39m\u001b[39mpoint2\u001b[39m\u001b[39m\"\u001b[39m]], road[\u001b[39m\"\u001b[39m\u001b[39moneWayRoad\u001b[39m\u001b[39m\"\u001b[39m])\n\u001b[0;32m     16\u001b[0m       graph\u001b[39m.\u001b[39madd_road(newRoad)\n\u001b[1;32m---> 17\u001b[0m read_data_from_file()\n",
      "Cell \u001b[1;32mIn[5], line 2\u001b[0m, in \u001b[0;36mread_data_from_file\u001b[1;34m()\u001b[0m\n\u001b[0;32m      1\u001b[0m \u001b[39mdef\u001b[39;00m \u001b[39mread_data_from_file\u001b[39m():\n\u001b[1;32m----> 2\u001b[0m     f \u001b[39m=\u001b[39m codecs\u001b[39m.\u001b[39mopen(\u001b[39m\"\u001b[39m\u001b[39mdata.json\u001b[39m\u001b[39m\"\u001b[39m, \u001b[39m'\u001b[39m\u001b[39mr\u001b[39m\u001b[39m'\u001b[39m, encoding\u001b[39m=\u001b[39m\u001b[39m'\u001b[39m\u001b[39mutf-8\u001b[39m\u001b[39m'\u001b[39m)\n\u001b[0;32m      3\u001b[0m     fileContent \u001b[39m=\u001b[39m f\u001b[39m.\u001b[39mread()\n\u001b[0;32m      4\u001b[0m     dataLoad \u001b[39m=\u001b[39m json\u001b[39m.\u001b[39mloads(fileContent)\n",
      "\u001b[1;31mNameError\u001b[0m: name 'codecs' is not defined"
     ]
    }
   ],
   "source": [
    "def read_data_from_file():\n",
    "    f = codecs.open(\"data.json\", 'r', encoding='utf-8')\n",
    "    fileContent = f.read()\n",
    "    dataLoad = json.loads(fileContent)\n",
    "    \n",
    "    for street_id in dataLoad[\"street\"]:\n",
    "      newStreet = Street(street_id, dataLoad[\"street\"][street_id])\n",
    "      streetDict[street_id] = newStreet\n",
    "    for point_id in dataLoad[\"point\"]:\n",
    "      tmpPoint = dataLoad[\"point\"][point_id]\n",
    "      newPoint = Point(int(point_id), tmpPoint[\"x\"], tmpPoint[\"y\"], tmpPoint[\"streetList\"])\n",
    "      pointDict[int(point_id)] = newPoint\n",
    "    \n",
    "    for road in dataLoad[\"road\"]:\n",
    "      newRoad = Road(pointDict[road[\"point1\"]], pointDict[road[\"point2\"]], road[\"oneWayRoad\"])\n",
    "      graph.add_road(newRoad)\n",
    "read_data_from_file()"
   ]
  },
  {
   "cell_type": "code",
   "execution_count": 6,
   "metadata": {},
   "outputs": [],
   "source": [
    "def pointTransform(position):\n",
    "  x_temp, y_temp = position\n",
    "  return [int((x_temp - x_min) * scale_width_ratio), \n",
    "          int((y_max - y_temp) * scale_height_ratio)]"
   ]
  },
  {
   "cell_type": "code",
   "execution_count": 7,
   "metadata": {},
   "outputs": [
    {
     "ename": "NameError",
     "evalue": "name 'plt' is not defined",
     "output_type": "error",
     "traceback": [
      "\u001b[1;31m---------------------------------------------------------------------------\u001b[0m",
      "\u001b[1;31mNameError\u001b[0m                                 Traceback (most recent call last)",
      "Cell \u001b[1;32mIn[7], line 26\u001b[0m\n\u001b[0;32m     24\u001b[0m       ax\u001b[39m.\u001b[39mplot([p1x, p2x], [p1y, p2y])    \n\u001b[0;32m     25\u001b[0m   plt\u001b[39m.\u001b[39mshow()\n\u001b[1;32m---> 26\u001b[0m read_image()\n",
      "Cell \u001b[1;32mIn[7], line 4\u001b[0m, in \u001b[0;36mread_image\u001b[1;34m()\u001b[0m\n\u001b[0;32m      2\u001b[0m \u001b[39mglobal\u001b[39;00m scale_width_ratio\n\u001b[0;32m      3\u001b[0m \u001b[39mglobal\u001b[39;00m scale_height_ratio\n\u001b[1;32m----> 4\u001b[0m fig, ax \u001b[39m=\u001b[39m plt\u001b[39m.\u001b[39msubplots(figsize\u001b[39m=\u001b[39m(\u001b[39m21\u001b[39m, \u001b[39m20\u001b[39m))\n\u001b[0;32m      5\u001b[0m img \u001b[39m=\u001b[39m cv2\u001b[39m.\u001b[39mimread(\u001b[39m\"\u001b[39m\u001b[39m./map.png\u001b[39m\u001b[39m\"\u001b[39m)\n\u001b[0;32m      6\u001b[0m img_height, img_width, color_channel \u001b[39m=\u001b[39m img\u001b[39m.\u001b[39mshape\n",
      "\u001b[1;31mNameError\u001b[0m: name 'plt' is not defined"
     ]
    }
   ],
   "source": [
    "def read_image():\n",
    "  global scale_width_ratio\n",
    "  global scale_height_ratio\n",
    "  fig, ax = plt.subplots(figsize=(21, 20))\n",
    "  img = cv2.imread(\"./map.png\")\n",
    "  img_height, img_width, color_channel = img.shape\n",
    "  ax.imshow(img)\n",
    "  scale_width_ratio = img_width/(x_max-x_min)\n",
    "  scale_height_ratio = img_height/(y_max-y_min)\n",
    "  ax.set_xlim(0, img_width)\n",
    "  ax.set_ylim(0, img_height)\n",
    "  ax.invert_yaxis()\n",
    "  for pnt in pointDict:\n",
    "    x_temp, y_temp = pointDict[pnt].getPosition()\n",
    "    x_temp, y_temp = pointTransform([x_temp, y_temp])\n",
    "    ax.add_patch(plt.Circle((x_temp,y_temp),5, color='r'))\n",
    "  \n",
    "  nextP = graph.get_next_point_dict()\n",
    "  for pointId in nextP:\n",
    "    p1x, p1y = pointTransform(pointDict[pointId].getPosition())\n",
    "    point2 = nextP[pointId]\n",
    "    for pt2Id in point2:\n",
    "      p2x, p2y = pointTransform(pointDict[pt2Id].getPosition())\n",
    "      ax.plot([p1x, p2x], [p1y, p2y])    \n",
    "  plt.show()\n",
    "read_image()"
   ]
  },
  {
   "cell_type": "code",
   "execution_count": 8,
   "metadata": {},
   "outputs": [],
   "source": [
    "def getNearestRoad(x, y)->Road:\n",
    "  pass\n",
    "\n",
    "def calculateLength(point1: Point, point2: Point):\n",
    "  x1, y1 = point1.getPosition()\n",
    "  x2, y2 = point2.getPosition()\n",
    "  return ((x1-x2)**2+(y1-y2)**2)**(1/2)"
   ]
  },
  {
   "cell_type": "code",
   "execution_count": 9,
   "metadata": {},
   "outputs": [],
   "source": [
    "\n",
    "def findPath(x_start, y_start, x_target, y_target):\n",
    "  startRoad = getNearestRoad(x_start, y_start)\n",
    "  targetRoad = getNearestRoad(x_target, y_target)\n",
    "  visitedPoint = {}\n",
    "  nextPointDict = graph.get_next_point_dict()\n",
    "  pathPriorityQueue = PriorityQueue()\n",
    "  pathPriorityQueue.put(\n",
    "    ( calculateLength(startRoad.getPoint1(), \n",
    "                    Point(-1, x_start, y_start, [])),\n",
    "      startRoad.getPoint1().getId()))\n",
    "  pathPriorityQueue.put(\n",
    "    ( calculateLength(startRoad.getPoint2(), \n",
    "                    Point(-1, x_start, y_start, [])),\n",
    "      startRoad.getPoint2().getId()))\n",
    "  while not pathPriorityQueue.empty():\n",
    "    tempLength, tempPointId = pathPriorityQueue.get()\n",
    "    if visitedPoint[tempPointId] == True:\n",
    "      continue\n",
    "    visitedPoint[tempPointId] = True\n",
    "    for nextPointId in nextPointDict[tempPointId]:\n",
    "      pathPriorityQueue.put(\n",
    "        tempLength + calculateLength(\n",
    "            pointDict[tempPointId], \n",
    "            pointDict[nextPointId]\n",
    "          ),\n",
    "        startRoad.getPoint2().getId()\n",
    "      )\n"
   ]
  },
  {
   "cell_type": "code",
   "execution_count": 26,
   "metadata": {},
   "outputs": [],
   "source": [
    "def getNearestRoad(x_start,y_start):\n",
    "    distances = np.zeros(len(roadDict))\n",
    "    for i in range(len(roadDict)):\n",
    "        x1,y1 = roadDict[i].getPoint1().getPosition()\n",
    "        x2,y2 = roadDict[i].getPoint2().getPosition()\n",
    "        distance = np.abs((y2-y1)*x_start - (x2-x1)*y_start + x2*y1 - y2*x1) / np.sqrt((y2-y1)**2 + (x2-x1)**2)\n",
    "        distances[i] = distance\n",
    "    nearest_line_index = np.argmin(distances)\n",
    "    return roadDict[nearest_line_index]\n",
    "getNearestRoad(1,1)"
   ]
  },
  {
   "cell_type": "code",
   "execution_count": null,
   "metadata": {},
   "outputs": [],
   "source": []
  }
 ],
 "metadata": {
  "kernelspec": {
   "display_name": "Python 3 (ipykernel)",
   "language": "python",
   "name": "python3"
  },
  "language_info": {
   "codemirror_mode": {
    "name": "ipython",
    "version": 3
   },
   "file_extension": ".py",
   "mimetype": "text/x-python",
   "name": "python",
   "nbconvert_exporter": "python",
   "pygments_lexer": "ipython3",
   "version": "3.11.3"
  },
  "vscode": {
   "interpreter": {
    "hash": "31f2aee4e71d21fbe5cf8b01ff0e069b9275f58929596ceb00d14d90e3e16cd6"
   }
  }
 },
 "nbformat": 4,
 "nbformat_minor": 2
}
