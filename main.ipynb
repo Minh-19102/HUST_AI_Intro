{
 "cells": [
  {
   "cell_type": "code",
   "execution_count": 1,
   "metadata": {},
   "outputs": [
    {
     "name": "stdout",
     "output_type": "stream",
     "text": [
      "Defaulting to user installation because normal site-packages is not writeable\n",
      "Requirement already satisfied: numpy in /usr/lib/python3/dist-packages (1.21.5)\n",
      "Defaulting to user installation because normal site-packages is not writeable\n",
      "Requirement already satisfied: matplotlib in /usr/lib/python3/dist-packages (3.5.1)\n"
     ]
    }
   ],
   "source": [
    "! python3.10 -m pip install numpy\n",
    "! python3.10 -m pip install matplotlib "
   ]
  },
  {
   "cell_type": "code",
   "execution_count": 2,
   "metadata": {},
   "outputs": [],
   "source": [
    "import json"
   ]
  },
  {
   "cell_type": "code",
   "execution_count": 3,
   "metadata": {},
   "outputs": [],
   "source": [
    "class Street:\n",
    "  def __init__(self, id, name):\n",
    "    self.id = id\n",
    "    self.name = name\n",
    "    \n",
    "class Point:\n",
    "  point_id = 0\n",
    "  def __init__(self, x, y, streetList: list):\n",
    "    self.id = point_id\n",
    "    point_id += 1\n",
    "    self.x = x\n",
    "    self.y = y\n",
    "    self.streetList = streetList\n",
    "\n",
    "class Road:\n",
    "  road_id = 0\n",
    "  def __init__(self , point1: Point, point2: Point, oneWayRoad):\n",
    "    self.id = road_id\n",
    "    road_id += 1\n",
    "    self.point1 = point1\n",
    "    self.point2 = point2\n",
    "    self.oneWayRoad = oneWayRoad\n",
    "\n",
    "class Graph:\n",
    "  next_point_dict = {}\n",
    "  def add_road(road_to_add: Road):\n",
    "    if road_to_add.oneWayRoad == 0:\n",
    "      next_point_dict[road_to_add.point1.id] += [road_to_add.point2.id]\n",
    "      next_point_dict[road_to_add.point2.id] += [road_to_add.point1.id]\n",
    "    elif road_to_add.oneWayRoad == 1:\n",
    "      next_point_dict[road_to_add.point1.id] += [road_to_add.point2.id]\n",
    "    elif road_to_add.oneWayRoad == -1:\n",
    "      next_point_dict[road_to_add.point2.id] += [road_to_add.point1.id]"
   ]
  },
  {
   "cell_type": "code",
   "execution_count": 4,
   "metadata": {},
   "outputs": [],
   "source": [
    "streetDict = {}\n",
    "positionDict = {}\n",
    "roadDict = {}"
   ]
  },
  {
   "cell_type": "code",
   "execution_count": 5,
   "metadata": {},
   "outputs": [],
   "source": [
    "def read_data_from_file():\n",
    "  with open(\"example.json\") as data:\n",
    "    fileContent = data.read()\n",
    "    dataLoad = json.loads(fileContent)\n",
    "    for street_id in dataLoad[\"street\"]:\n",
    "      newStreet = Street(street_id, dataLoad[\"street\"][street_id])\n",
    "      streetDict[street_id] = newStreet\n",
    "    \n",
    "read_data_from_file()"
   ]
  },
  {
   "cell_type": "code",
   "execution_count": null,
   "metadata": {},
   "outputs": [],
   "source": []
  }
 ],
 "metadata": {
  "kernelspec": {
   "display_name": "Python 3.10.6 64-bit",
   "language": "python",
   "name": "python3"
  },
  "language_info": {
   "codemirror_mode": {
    "name": "ipython",
    "version": 3
   },
   "file_extension": ".py",
   "mimetype": "text/x-python",
   "name": "python",
   "nbconvert_exporter": "python",
   "pygments_lexer": "ipython3",
   "version": "3.10.6"
  },
  "orig_nbformat": 4,
  "vscode": {
   "interpreter": {
    "hash": "31f2aee4e71d21fbe5cf8b01ff0e069b9275f58929596ceb00d14d90e3e16cd6"
   }
  }
 },
 "nbformat": 4,
 "nbformat_minor": 2
}
