{
 "cells": [
  {
   "cell_type": "markdown",
   "metadata": {},
   "source": [
    "# Nhập môn trí tuệ nhân tạo\n",
    "## Thông tin\n",
    "### Nhóm: 16\n",
    "### Thành viên:\n",
    "- Đào Nhật Minh - 20200392\n",
    "- Hoàng Vân Trường - 20205134\n",
    "- Nguyễn Thu Trang - 20205035\n",
    "- Trần Anh Tuấn - 20205041\n",
    "- Nguyễn Giang Nam - 20205103\n",
    "\n",
    "### Giảng viên hướng dẫn:\n",
    "- PGS. Trần Đình Khang\n",
    "\n",
    "## Giới thiệu:\n",
    "\n",
    "### Mục tiêu\n",
    "\n",
    "### Mục lục\n",
    "- [Các thực thể](#entity)\n",
    "- [Đọc file dữ liệu](#readData)\n",
    "- [Tìm đường gần nhất từ 1 điểm](#nearestRoad)\n",
    "- [Hiển thị bản đồ](#displayMap)\n",
    "- [Tìm đường](#findPath)\n",
    "- [Ứng dụng](#application)\n"
   ]
  },
  {
   "cell_type": "markdown",
   "metadata": {
    "tags": []
   },
   "source": [
    "Chạy các lệnh sau nếu máy tính không có sẵn thư viện"
   ]
  },
  {
   "cell_type": "code",
   "execution_count": null,
   "metadata": {},
   "outputs": [],
   "source": [
    "#python3.10 -m pip install numpy\n",
    "#python3.10 -m pip install matplotlib \n",
    "#python3.10 -m pip install opencv-python\n",
    "#python3.10 -m pip install ipywidget"
   ]
  },
  {
   "cell_type": "code",
   "execution_count": null,
   "metadata": {},
   "outputs": [],
   "source": [
    "import json\n",
    "import numpy as np\n",
    "from queue import PriorityQueue\n",
    "import codecs\n",
    "import cv2\n",
    "import matplotlib.pyplot as plt\n",
    "import ipywidgets"
   ]
  },
  {
   "cell_type": "markdown",
   "metadata": {
    "tags": []
   },
   "source": [
    "<a name = \"entity\"/>\n",
    "\n",
    "## 1. Các thực thể"
   ]
  },
  {
   "cell_type": "code",
   "execution_count": null,
   "metadata": {},
   "outputs": [],
   "source": [
    "class Street:\n",
    "    def __init__(self, id, name):\n",
    "        self.id = id\n",
    "        self.name = name\n",
    "    \n",
    "class Point:\n",
    "    def __init__(self, id, x, y, streetList: list):\n",
    "        self.id = id\n",
    "        self.x = x\n",
    "        self.y = y\n",
    "        self.streetList = streetList\n",
    "    def getId(self) -> int:\n",
    "        return self.id\n",
    "    def getPosition(self) -> list:\n",
    "        return [self.x, self.y]\n",
    "    def getStreetList(self) -> list:\n",
    "        return self.streetList\n",
    "\n",
    "road_id = 0\n",
    "class Road:\n",
    "    def __init__(self , point1: Point, point2: Point, oneWayRoad):\n",
    "        global road_id\n",
    "        self.id = road_id\n",
    "        road_id += 1\n",
    "        self.point1 = point1\n",
    "        self.point2 = point2\n",
    "        self.oneWayRoad = oneWayRoad\n",
    "    def getPoint1(self)->Point:\n",
    "        return self.point1\n",
    "    def getPoint2(self)->Point:\n",
    "        return self.point2\n",
    "    def getOneWayRoad(self):\n",
    "        return self.oneWayRoad\n",
    "    def getLength(self):\n",
    "        if self.length != -1:\n",
    "            x1, y1 = self.getPoint1().getPosition()\n",
    "            x2, y2 = self.getPoint2().getPosition()\n",
    "            self.length = abs((x1-x2)**2+(y1-y2)**2)**(1/2)\n",
    "        return self.length\n",
    "\n",
    "class Graph:\n",
    "    next_point_dict = {}\n",
    "    def add_road(self, road_to_add: Road):\n",
    "        p1Id = road_to_add.point1.getId()\n",
    "        p2Id = road_to_add.point2.getId()\n",
    "        if p1Id not in self.next_point_dict:\n",
    "            self.next_point_dict[p1Id] = []\n",
    "        if p2Id not in self.next_point_dict:\n",
    "            self.next_point_dict[p2Id] = []\n",
    "        if road_to_add.oneWayRoad!= 1:\n",
    "            self.next_point_dict[p2Id] += [p1Id]\n",
    "        if road_to_add.oneWayRoad!= -1:\n",
    "            self.next_point_dict[p1Id] += [p2Id]\n",
    "    def get_next_point_dict(self):\n",
    "        return self.next_point_dict"
   ]
  },
  {
   "cell_type": "markdown",
   "metadata": {
    "tags": []
   },
   "source": [
    "<a name = \"readData\"/>\n",
    "\n",
    "## 2. Đọc file dữ liệu"
   ]
  },
  {
   "cell_type": "code",
   "execution_count": null,
   "metadata": {},
   "outputs": [],
   "source": [
    "scale_width_ratio = 0\n",
    "scale_height_ratio = 0\n",
    "x_max = 105.850260\n",
    "y_max = 21.044922\n",
    "x_min = 105.844521\n",
    "y_min = 21.039959\n",
    "g_x_st = g_y_st = g_x_dst = g_y_dst = 0\n",
    "streetDict = {}\n",
    "pointDict = {}\n",
    "roadDict = {}\n",
    "graph = Graph()"
   ]
  },
  {
   "cell_type": "code",
   "execution_count": null,
   "metadata": {},
   "outputs": [],
   "source": [
    "def read_data_from_file():\n",
    "    f = codecs.open(\"data.json\", 'r', encoding='utf-8')\n",
    "    fileContent = f.read()\n",
    "    dataLoad = json.loads(fileContent)\n",
    "    \n",
    "    for street_id in dataLoad[\"street\"]:\n",
    "        newStreet = Street(street_id, dataLoad[\"street\"][street_id])\n",
    "        streetDict[street_id] = newStreet\n",
    "    for point_id in dataLoad[\"point\"]:\n",
    "        tmpPoint = dataLoad[\"point\"][point_id]\n",
    "        newPoint = Point(int(point_id), tmpPoint[\"x\"], tmpPoint[\"y\"], tmpPoint[\"streetList\"])\n",
    "        pointDict[int(point_id)] = newPoint\n",
    "    \n",
    "    road_id = 0\n",
    "    for road in dataLoad[\"road\"]:\n",
    "        newRoad = Road(pointDict[road[\"point1\"]], pointDict[road[\"point2\"]], road[\"oneWayRoad\"])\n",
    "        roadDict[road_id] = newRoad\n",
    "        graph.add_road(newRoad)\n",
    "        road_id = road_id + 1\n",
    "\n",
    "read_data_from_file()"
   ]
  },
  {
   "cell_type": "markdown",
   "metadata": {},
   "source": [
    "<a name = \"nearestRoad\"/>\n",
    "\n",
    "## 3. Tìm đường gần nhất từ 1 điểm"
   ]
  },
  {
   "cell_type": "code",
   "execution_count": null,
   "metadata": {},
   "outputs": [],
   "source": [
    "def getNearestRoad(x, y):\n",
    "    min_dis = np.inf\n",
    "    nearest_line_index = -1\n",
    "    nearest_point = [-1, -1]\n",
    "    for i in range(len(roadDict)):\n",
    "        distance , point = calculateDistance(x, y, roadDict[i])\n",
    "        if distance < min_dis:\n",
    "            nearest_line_index = i\n",
    "            nearest_point = point\n",
    "            min_dis = distance\n",
    "    return roadDict[nearest_line_index], nearest_point\n",
    "\n",
    "def calculateDistance(x, y, road: Road):\n",
    "    x1,y1 = road.getPoint1().getPosition()\n",
    "    x2,y2 = road.getPoint2().getPosition()\n",
    "    u = [x2 - x1, y2 - y1]\n",
    "    v = [x - x1, y - y1]\n",
    "    proj_v_on_u = [(v[0]*u[0] + v[1]*u[1])/ (u[0]**2 + u[1]**2) * u[0], \n",
    "                   (v[0]*u[0] + v[1]*u[1])/ (u[0]**2 + u[1]**2) * u[1]]\n",
    "    C = [x1 + proj_v_on_u[0], y1 + proj_v_on_u[1]]\n",
    "    if (C[0] - x1)*(C[0] - x2) <= 0 and (C[1] - y1) * (C[1] - y2) <= 0:\n",
    "        return np.sqrt((x - C[0])**2 + (y - C[1])**2), C\n",
    "    else:\n",
    "        dis_point1 = np.sqrt((x - x1)**2 + (y - y1)**2)\n",
    "        dis_point2 = np.sqrt((x - x2)**2 + (y - y2)**2)\n",
    "    if dis_point1 < dis_point2:\n",
    "        return dis_point1, [x1, y1]\n",
    "    else:\n",
    "        return dis_point2, [x2, y2]\n"
   ]
  },
  {
   "cell_type": "markdown",
   "metadata": {},
   "source": [
    "<a name = \"displayMap\"/>\n",
    "\n",
    "## 4. Hiển thị bản đồ"
   ]
  },
  {
   "cell_type": "code",
   "execution_count": null,
   "metadata": {},
   "outputs": [],
   "source": [
    "def pointTransform(position):\n",
    "    x_temp, y_temp = position\n",
    "    return [int((x_temp - x_min) * scale_width_ratio), \n",
    "            int((y_max - y_temp) * scale_height_ratio)]"
   ]
  },
  {
   "cell_type": "code",
   "execution_count": null,
   "metadata": {},
   "outputs": [],
   "source": [
    "fig, ax = plt.subplots(figsize=(21, 20))\n",
    "def read_image():\n",
    "    global scale_width_ratio\n",
    "    global scale_height_ratio\n",
    "    global img\n",
    "    img = cv2.imread(\"./map.png\")\n",
    "    img_height, img_width, color_channel = img.shape\n",
    "    ax.imshow(img)\n",
    "    scale_width_ratio = img_width/(x_max-x_min)\n",
    "    scale_height_ratio = img_height/(y_max-y_min)\n",
    "    ax.set_xlim(0, img_width)\n",
    "    ax.set_ylim(0, img_height)\n",
    "    ax.invert_yaxis()\n",
    "\n",
    "    for pnt in pointDict:\n",
    "        x_temp, y_temp = pointDict[pnt].getPosition()\n",
    "        x_temp, y_temp = pointTransform([x_temp, y_temp])\n",
    "        ax.add_patch(plt.Circle((x_temp,y_temp),5, color='r'))\n",
    "        nextP = graph.get_next_point_dict()\n",
    "        for pointId in nextP:\n",
    "            p1x, p1y = pointTransform(pointDict[pointId].getPosition())\n",
    "            point2 = nextP[pointId]\n",
    "            for pt2Id in point2:\n",
    "                p2x, p2y = pointTransform(pointDict[pt2Id].getPosition())\n",
    "                ax.plot([p1x, p2x], [p1y, p2y], color = \"#0e34b0\")  \n",
    "        plt.show()\n",
    "read_image()"
   ]
  },
  {
   "cell_type": "markdown",
   "metadata": {},
   "source": [
    "<a name = \"findPath\"/>\n",
    "\n",
    "## 5. Tìm đường"
   ]
  },
  {
   "cell_type": "code",
   "execution_count": null,
   "metadata": {},
   "outputs": [],
   "source": [
    "def calculateLength(point1: Point, point2: Point):\n",
    "    x1, y1 = point1.getPosition()\n",
    "    x2, y2 = point2.getPosition()\n",
    "    return ((x1-x2)**2+(y1-y2)**2)**(1/2)"
   ]
  },
  {
   "cell_type": "code",
   "execution_count": null,
   "metadata": {},
   "outputs": [],
   "source": [
    "# KQ return của hàm findPath là 1 list gồm các step, trong đó\n",
    "#   + Loại 1: Step tính đường di chuyển (list): [point1's id, point2's id, weight]\n",
    "#   + Loại 2: Cố định kết quả của point (number): point \n",
    "def findPath(x_start, y_start, x_target, y_target):\n",
    "    outputResult = [] \n",
    "    trace = {}\n",
    "    nearestRoad_st, nearestPoint_st = getNearestRoad(x_start, y_start)\n",
    "    nearestRoad_t, nearestPoint_t = getNearestRoad(x_target, y_target)\n",
    "    \n",
    "    visitedPoint = [False]*(len(pointDict)+5)\n",
    "    nextPointDict = graph.get_next_point_dict()\n",
    "    \n",
    "    pointDict[0] = Point(0, nearestPoint_t[0], nearestPoint_t[1], [])\n",
    "    if nearestRoad_t.getOneWayRoad() != -1:\n",
    "        nextPointDict[nearestRoad_t.getPoint1().getId()].append(0);\n",
    "    if nearestRoad_t.getOneWayRoad() != 1:\n",
    "        nextPointDict[nearestRoad_t.getPoint2().getId()].append(0);\n",
    "    \n",
    "    pathPriorityQueue = PriorityQueue()\n",
    "    w1 = calculateLength(nearestRoad_st.getPoint1(), Point(-1, x_start, y_start, []))\n",
    "    pathPriorityQueue.put((w1, nearestRoad_st.getPoint1().getId(), -1))\n",
    "    w2 = calculateLength(nearestRoad_st.getPoint2(), Point(-1, x_start, y_start, []))\n",
    "    pathPriorityQueue.put((w2, nearestRoad_st.getPoint2().getId(), -1))\n",
    "    \n",
    "    outputResult.append([-1, nearestRoad_st.getPoint1().getId(), w1])\n",
    "    outputResult.append([-1, nearestRoad_st.getPoint2().getId(), w2])\n",
    "    \n",
    "    while not pathPriorityQueue.empty():\n",
    "        tempLength, tempPointId, rootId = pathPriorityQueue.get()\n",
    "        if visitedPoint[tempPointId] == True:\n",
    "            continue\n",
    "        trace[tempPointId] = rootId\n",
    "        if tempPointId == 0: \n",
    "            break\n",
    "        visitedPoint[tempPointId] = True\n",
    "        outputResult.append(tempPointId)\n",
    "        for nextPointId in nextPointDict[tempPointId]:         \n",
    "            if visitedPoint[nextPointId] == False:\n",
    "                tmp_weight = tempLength + calculateLength(pointDict[tempPointId], pointDict[nextPointId])\n",
    "                outputResult.append([tempPointId, nextPointId, tmp_weight])\n",
    "                pathPriorityQueue.put((tmp_weight, nextPointId, tempPointId))\n",
    "    return outputResult\n"
   ]
  },
  {
   "cell_type": "markdown",
   "metadata": {},
   "source": [
    "<a name=\"application\">\n",
    "    \n",
    "## 6. Ứng dụng"
   ]
  },
  {
   "cell_type": "code",
   "execution_count": null,
   "metadata": {},
   "outputs": [],
   "source": [
    "def initial_plot_func(x_st, y_st, x_dst, y_dst):\n",
    "    global g_x_st\n",
    "    global g_y_st\n",
    "    global g_x_dst\n",
    "    global g_y_dst\n",
    "    g_x_st, g_y_st, g_x_dst, g_y_dst = x_st, y_st, x_dst, y_dst\n",
    "    fig, ax = plt.subplots(figsize=(16, 15))\n",
    "    ax.imshow(img)\n",
    "    [x_st, y_st] = pointTransform((x_st, y_st))\n",
    "    [x_dst, y_dst] = pointTransform((x_dst, y_dst))\n",
    "    plt.plot(x_st, y_st, marker=\"o\", markersize=20, markeredgecolor=\"black\", markerfacecolor=\"green\")\n",
    "    plt.plot(x_dst, y_dst, marker=\"o\", markersize=20, markeredgecolor=\"black\", markerfacecolor=\"blue\")\n",
    "    plt.plot([x_st, x_dst], [y_st, y_dst], 'r--')"
   ]
  },
  {
   "cell_type": "code",
   "execution_count": null,
   "metadata": {},
   "outputs": [],
   "source": [
    "ax.invert_yaxis()\n",
    "ipywidgets.interact(initial_plot_func, \n",
    "                    x_st = ipywidgets.FloatSlider(min = x_min, max = x_max, step = 0.000001, \n",
    "                                               value = (x_max + x_min)/2, readout_format='.6f', \n",
    "                                               layout=ipywidgets.Layout(width='800px')), \n",
    "                    y_st = ipywidgets.FloatSlider(min = y_min, max = y_max, step = 0.000001, \n",
    "                                               value = (y_max + y_min)/2, readout_format='.6f', \n",
    "                                               layout=ipywidgets.Layout(width='800px')),\n",
    "                    x_dst = ipywidgets.FloatSlider(min = x_min, max = x_max, step = 0.000001, \n",
    "                                               value = (x_max + x_min)/2, readout_format='.6f', \n",
    "                                               layout=ipywidgets.Layout(width='800px')), \n",
    "                    y_dst = ipywidgets.FloatSlider(min = y_min, max = y_max, step = 0.000001, \n",
    "                                               value = (y_max + y_min)/2, readout_format='.6f', \n",
    "                                               layout=ipywidgets.Layout(width='800px')))"
   ]
  },
  {
   "cell_type": "code",
   "execution_count": null,
   "metadata": {},
   "outputs": [],
   "source": [
    "def find_road_plot_func(step):\n",
    "    fig, ax = plt.subplots(figsize=(16, 15))\n",
    "    ax.imshow(img)\n",
    "    global steps\n",
    "    marked = [True] * (len(pointDict)+5)\n",
    "    for i in range(step -1, -1, -1):\n",
    "        if type(steps[i]).__name__ == 'list':\n",
    "            p1Id, p2Id, weight = steps[i]\n",
    "            p1 = pointTransform([g_x_st, g_y_st]) if p1Id == -1 else pointTransform(pointDict[p1Id].getPosition())\n",
    "            p2 = pointTransform(pointDict[p2Id].getPosition())\n",
    "            color_type = 'g--' if marked[p2Id] else 'r-'\n",
    "            plt.plot([p1[0], p2[0]], [p1[1], p2[1]], color_type)\n",
    "        else:\n",
    "            marked[steps[i]] == False\n",
    "    \n",
    "    "
   ]
  },
  {
   "cell_type": "code",
   "execution_count": null,
   "metadata": {},
   "outputs": [],
   "source": [
    "#print(g_x_st, g_y_st, g_x_dst, g_y_dst)\n",
    "global steps\n",
    "steps = findPath(g_x_st, g_y_st, g_x_dst, g_y_dst)\n",
    "ipywidgets.interact(find_road_plot_func, step = ipywidgets.IntSlider(min = 0, max = len(steps)))"
   ]
  },
  {
   "cell_type": "code",
   "execution_count": null,
   "metadata": {},
   "outputs": [],
   "source": []
  }
 ],
 "metadata": {
  "kernelspec": {
   "display_name": "env",
   "language": "python",
   "name": "env"
  },
  "language_info": {
   "codemirror_mode": {
    "name": "ipython",
    "version": 3
   },
   "file_extension": ".py",
   "mimetype": "text/x-python",
   "name": "python",
   "nbconvert_exporter": "python",
   "pygments_lexer": "ipython3",
   "version": "3.10.6"
  },
  "vscode": {
   "interpreter": {
    "hash": "31f2aee4e71d21fbe5cf8b01ff0e069b9275f58929596ceb00d14d90e3e16cd6"
   }
  }
 },
 "nbformat": 4,
 "nbformat_minor": 4
}
