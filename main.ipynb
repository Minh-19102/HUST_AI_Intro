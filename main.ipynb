{
 "cells": [
  {
   "cell_type": "code",
   "execution_count": 3,
   "metadata": {},
   "outputs": [
    {
     "name": "stdout",
     "output_type": "stream",
     "text": [
      "Defaulting to user installation because normal site-packages is not writeable\n",
      "Requirement already satisfied: numpy in /usr/lib/python3/dist-packages (1.21.5)\n",
      "Defaulting to user installation because normal site-packages is not writeable\n",
      "Requirement already satisfied: matplotlib in /usr/lib/python3/dist-packages (3.5.1)\n"
     ]
    }
   ],
   "source": [
    "! python3.10 -m pip install numpy\n",
    "! python3.10 -m pip install matplotlib "
   ]
  },
  {
   "cell_type": "code",
   "execution_count": 4,
   "metadata": {},
   "outputs": [],
   "source": [
    "import json\n",
    "from queue import PriorityQueue"
   ]
  },
  {
   "cell_type": "code",
   "execution_count": 5,
   "metadata": {},
   "outputs": [],
   "source": [
    "class Street:\n",
    "  def __init__(self, id, name):\n",
    "    self.id = id\n",
    "    self.name = name\n",
    "    \n",
    "class Point:\n",
    "  def __init__(self, id, x, y, streetList: list):\n",
    "    self.id = id\n",
    "    self.x = x\n",
    "    self.y = y\n",
    "    self.streetList = streetList\n",
    "  \n",
    "  def getId(self) -> int:\n",
    "    return self.id\n",
    "  \n",
    "  def getPosition(self) -> list:\n",
    "    return [self.x, self.y]\n",
    "  \n",
    "  def getStreetList(self) -> list:\n",
    "    return self.streetList\n",
    "\n",
    "road_id = 0\n",
    "class Road:\n",
    "  def __init__(self , point1: Point, point2: Point, oneWayRoad):\n",
    "    global road_id\n",
    "    self.id = road_id\n",
    "    road_id += 1\n",
    "    self.point1 = point1\n",
    "    self.point2 = point2\n",
    "    self.oneWayRoad = oneWayRoad\n",
    "  def getPoint1(self)->Point:\n",
    "    return self.point1\n",
    "  def getPoint2(self)->Point:\n",
    "    return self.point2\n",
    "  def getLength(self):\n",
    "    if self.length != -1:\n",
    "      x1, y1 = self.getPoint1().getPosition()\n",
    "      x2, y2 = self.getPoint2().getPosition()\n",
    "      self.length = ((x1-x2)**2+(y1-y2)**2)**(1/2)\n",
    "    return abs()\n",
    "\n",
    "class Graph:\n",
    "  next_point_dict = {}\n",
    "  def add_road(self, road_to_add: Road):\n",
    "    p1Id = road_to_add.point1.getId()\n",
    "    p2Id = road_to_add.point2.getId()\n",
    "    if p1Id not in self.next_point_dict:\n",
    "      self.next_point_dict[p1Id] = []\n",
    "    if p2Id not in self.next_point_dict:\n",
    "      self.next_point_dict[p2Id] = []\n",
    "    if road_to_add.oneWayRoad!= 1:\n",
    "      self.next_point_dict[p2Id] += [p1Id]\n",
    "    if road_to_add.oneWayRoad!= -1:\n",
    "      self.next_point_dict[p1Id] += [p2Id]\n",
    "  def get_next_point_dict(self):\n",
    "    return self.next_point_dict"
   ]
  },
  {
   "cell_type": "code",
   "execution_count": 6,
   "metadata": {},
   "outputs": [],
   "source": [
    "streetDict = {}\n",
    "pointDict = {}\n",
    "roadDict = {}\n",
    "graph = Graph()"
   ]
  },
  {
   "cell_type": "code",
   "execution_count": 7,
   "metadata": {},
   "outputs": [
    {
     "name": "stdout",
     "output_type": "stream",
     "text": [
      "{1: [], 2: [1, 5], 3: [1, 4], 4: [2], 5: [2, 6, 11, 15], 6: [5, 7], 7: [8, 13, 13], 8: [], 9: [10, 11], 10: [], 11: [5, 9], 12: [10], 13: [14, 7, 7, 14], 14: [13, 13, 19], 15: [5, 16, 17], 16: [15], 17: [15, 18], 18: [17], 19: [12, 14]}\n"
     ]
    }
   ],
   "source": [
    "def read_data_from_file():\n",
    "  with open(\"data.json\") as data:\n",
    "    fileContent = data.read()\n",
    "    dataLoad = json.loads(fileContent)\n",
    "    \n",
    "    for street_id in dataLoad[\"street\"]:\n",
    "      newStreet = Street(street_id, dataLoad[\"street\"][street_id])\n",
    "      streetDict[street_id] = newStreet\n",
    "    for point_id in dataLoad[\"point\"]:\n",
    "      tmpPoint = dataLoad[\"point\"][point_id]\n",
    "      newPoint = Point(int(point_id), tmpPoint[\"x\"], tmpPoint[\"y\"], tmpPoint[\"streetList\"])\n",
    "      pointDict[int(point_id)] = newPoint\n",
    "    \n",
    "    for road in dataLoad[\"road\"]:\n",
    "      newRoad = Road(pointDict[road[\"point1\"]], pointDict[road[\"point2\"]], road[\"oneWayRoad\"])\n",
    "      graph.add_road(newRoad)\n",
    "    print(graph.next_point_dict)\n",
    "    \n",
    "read_data_from_file()"
   ]
  },
  {
   "cell_type": "code",
   "execution_count": 8,
   "metadata": {},
   "outputs": [],
   "source": [
    "def getNearestRoad(x, y)->Road:\n",
    "  pass\n",
    "\n",
    "def calculateLength(point1: Point, point2: Point):\n",
    "  x1, y1 = point1.getPosition()\n",
    "  x2, y2 = point2.getPosition()\n",
    "  return ((x1-x2)**2+(y1-y2)**2)**(1/2)"
   ]
  },
  {
   "cell_type": "code",
   "execution_count": 9,
   "metadata": {},
   "outputs": [],
   "source": [
    "\n",
    "def findPath(x_start, y_start, x_target, y_target):\n",
    "  startRoad = getNearestRoad(x_start, y_start)\n",
    "  targetRoad = getNearestRoad(x_target, y_target)\n",
    "  visitedPoint = {}\n",
    "  nextPointDict = graph.get_next_point_dict()\n",
    "  pathPriorityQueue = PriorityQueue()\n",
    "  pathPriorityQueue.put(\n",
    "    ( calculateLength(startRoad.getPoint1(), \n",
    "                    Point(-1, x_start, y_start, [])),\n",
    "      startRoad.getPoint1().getId()))\n",
    "  pathPriorityQueue.put(\n",
    "    ( calculateLength(startRoad.getPoint2(), \n",
    "                    Point(-1, x_start, y_start, [])),\n",
    "      startRoad.getPoint2().getId()))\n",
    "  while not pathPriorityQueue.empty():\n",
    "    tempLength, tempPointId = pathPriorityQueue.get()\n",
    "    if visitedPoint[tempPointId] == True:\n",
    "      continue\n",
    "    visitedPoint[tempPointId] = True\n",
    "    for nextPointId in nextPointDict[tempPointId]:\n",
    "      pathPriorityQueue.put(\n",
    "        tempLength + calculateLength(\n",
    "            pointDict[tempPointId], \n",
    "            pointDict[nextPointId]\n",
    "          ),\n",
    "        startRoad.getPoint2().getId()\n",
    "      )\n",
    "  "
   ]
  }
 ],
 "metadata": {
  "kernelspec": {
   "display_name": "Python 3.10.6 64-bit",
   "language": "python",
   "name": "python3"
  },
  "language_info": {
   "codemirror_mode": {
    "name": "ipython",
    "version": 3
   },
   "file_extension": ".py",
   "mimetype": "text/x-python",
   "name": "python",
   "nbconvert_exporter": "python",
   "pygments_lexer": "ipython3",
   "version": "3.10.6"
  },
  "orig_nbformat": 4,
  "vscode": {
   "interpreter": {
    "hash": "31f2aee4e71d21fbe5cf8b01ff0e069b9275f58929596ceb00d14d90e3e16cd6"
   }
  }
 },
 "nbformat": 4,
 "nbformat_minor": 2
}
